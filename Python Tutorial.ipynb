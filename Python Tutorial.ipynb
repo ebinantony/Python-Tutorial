{
 "cells": [
  {
   "cell_type": "markdown",
   "id": "b3140b14",
   "metadata": {},
   "source": [
    "# Python Tutorial"
   ]
  },
  {
   "cell_type": "markdown",
   "id": "ee515c56",
   "metadata": {},
   "source": [
    "# Variable\n",
    "container that store data value. or\n",
    "A named memory location that stores a value and is used to give data to the computer for processing."
   ]
  },
  {
   "cell_type": "code",
   "execution_count": 1,
   "id": "ddeb6de7",
   "metadata": {},
   "outputs": [
    {
     "name": "stdout",
     "output_type": "stream",
     "text": [
      "10\n"
     ]
    }
   ],
   "source": [
    "a = 10\n",
    "print(a)"
   ]
  },
  {
   "cell_type": "code",
   "execution_count": 2,
   "id": "57328b51",
   "metadata": {},
   "outputs": [
    {
     "name": "stdout",
     "output_type": "stream",
     "text": [
      "John\n"
     ]
    }
   ],
   "source": [
    "name = 'John'\n",
    "print(name)"
   ]
  },
  {
   "cell_type": "markdown",
   "id": "72ae9a59",
   "metadata": {},
   "source": [
    "Naming Varaible\n",
    "1. Letter or Underscore(_)\n",
    "2. Cannot Start with Number\n",
    "3. Alphanumeric (A-Z, a-z, 0-9, _)\n",
    "4. Case sensitive, name NAME,"
   ]
  },
  {
   "cell_type": "markdown",
   "id": "838fe032",
   "metadata": {},
   "source": [
    "# Data Types\n",
    "data type is a classification of data items that identifies the type of data, its size, and the functions associated with it"
   ]
  },
  {
   "cell_type": "code",
   "execution_count": 4,
   "id": "93016a0c",
   "metadata": {},
   "outputs": [
    {
     "name": "stdout",
     "output_type": "stream",
     "text": [
      "<class 'int'>\n",
      "<class 'str'>\n",
      "<class 'float'>\n",
      "<class 'complex'>\n"
     ]
    }
   ],
   "source": [
    "a = 10\n",
    "name = 'John'\n",
    "b = 3.56\n",
    "x = 10j\n",
    "print(type(a))\n",
    "print(type(name))\n",
    "print(type(b))\n",
    "print(type(x))"
   ]
  },
  {
   "cell_type": "markdown",
   "id": "2f2339ca",
   "metadata": {},
   "source": [
    "# Boolean Data Types"
   ]
  },
  {
   "cell_type": "code",
   "execution_count": 6,
   "id": "b460a563",
   "metadata": {},
   "outputs": [
    {
     "name": "stdout",
     "output_type": "stream",
     "text": [
      "<class 'bool'>\n",
      "<class 'bool'>\n"
     ]
    }
   ],
   "source": [
    "python = True\n",
    "java = False\n",
    "print(type(python))\n",
    "print(type(java))"
   ]
  },
  {
   "cell_type": "code",
   "execution_count": 7,
   "id": "9e3d5be9",
   "metadata": {},
   "outputs": [
    {
     "name": "stdout",
     "output_type": "stream",
     "text": [
      "10\n",
      "10\n",
      "10\n"
     ]
    }
   ],
   "source": [
    "# a = 10\n",
    "# b = 10\n",
    "# c = 10\n",
    "a = b = c = 10\n",
    "print(a)\n",
    "print(b)\n",
    "print(c)"
   ]
  },
  {
   "cell_type": "code",
   "execution_count": 8,
   "id": "0291797c",
   "metadata": {},
   "outputs": [
    {
     "name": "stdout",
     "output_type": "stream",
     "text": [
      "onion\n",
      "carrot\n",
      "cabbage\n"
     ]
    }
   ],
   "source": [
    "x, y, z = 'onion', 'carrot', 'cabbage'\n",
    "print(x)\n",
    "print(y)\n",
    "print(z)"
   ]
  },
  {
   "cell_type": "markdown",
   "id": "8d2678bd",
   "metadata": {},
   "source": [
    "# Operators "
   ]
  },
  {
   "cell_type": "markdown",
   "id": "9a6cc196",
   "metadata": {},
   "source": [
    "### Arithmetic Operators"
   ]
  },
  {
   "cell_type": "code",
   "execution_count": 41,
   "id": "3645f8e7",
   "metadata": {},
   "outputs": [
    {
     "name": "stdout",
     "output_type": "stream",
     "text": [
      "Sum: 15\n",
      "Sum:  15\n"
     ]
    }
   ],
   "source": [
    "# Addition\n",
    "a = 10\n",
    "b = 5\n",
    "sum_result = a + b\n",
    "print(f\"Sum: {sum_result}\")  # Output: Sum: 15\n",
    "print(\"Sum: \", sum_result)\n"
   ]
  },
  {
   "cell_type": "code",
   "execution_count": 42,
   "id": "0014f168",
   "metadata": {},
   "outputs": [
    {
     "name": "stdout",
     "output_type": "stream",
     "text": [
      "Difference: 5\n"
     ]
    }
   ],
   "source": [
    "# Subtraction\n",
    "difference = a - b\n",
    "print(f\"Difference: {difference}\")  # Output: Difference: 5"
   ]
  },
  {
   "cell_type": "code",
   "execution_count": 44,
   "id": "c4ca5ab1",
   "metadata": {},
   "outputs": [
    {
     "name": "stdout",
     "output_type": "stream",
     "text": [
      "Product:  50\n"
     ]
    }
   ],
   "source": [
    "# Multiplication\n",
    "product = a * b\n",
    "print(\"Product: \", product)  # Output: Product: 50"
   ]
  },
  {
   "cell_type": "code",
   "execution_count": 4,
   "id": "3a713d82",
   "metadata": {},
   "outputs": [
    {
     "name": "stdout",
     "output_type": "stream",
     "text": [
      "Quotient: 2.0\n"
     ]
    }
   ],
   "source": [
    "# Division\n",
    "quotient = a / b\n",
    "print(\"Quotient: \", quotient\")  # Output: Quotient: 2.0"
   ]
  },
  {
   "cell_type": "code",
   "execution_count": 5,
   "id": "6cc51532",
   "metadata": {},
   "outputs": [
    {
     "name": "stdout",
     "output_type": "stream",
     "text": [
      "Floor Quotient: 2\n"
     ]
    }
   ],
   "source": [
    "# Floor Division (integer division)\n",
    "floor_quotient = a // b\n",
    "print(\"Floor Quotient: \", floor_quotient\")  # Output: Floor Quotient: 2"
   ]
  },
  {
   "cell_type": "code",
   "execution_count": 6,
   "id": "8ad48fb2",
   "metadata": {},
   "outputs": [
    {
     "name": "stdout",
     "output_type": "stream",
     "text": [
      "Remainder: 0\n"
     ]
    }
   ],
   "source": [
    "# Modulus (remainder)\n",
    "remainder = a % b\n",
    "print(\"Remainder: \", remainder)  # Output: Remainder: 0"
   ]
  },
  {
   "cell_type": "code",
   "execution_count": 7,
   "id": "b319761d",
   "metadata": {},
   "outputs": [
    {
     "name": "stdout",
     "output_type": "stream",
     "text": [
      "Exponent: 100000\n"
     ]
    }
   ],
   "source": [
    "# Exponentiation\n",
    "exponent = a ** b\n",
    "print(\"Exponent: \", exponent)  # Output: Exponent: 100000"
   ]
  },
  {
   "cell_type": "markdown",
   "id": "2b103a6b",
   "metadata": {},
   "source": [
    "### Assignment Operators"
   ]
  },
  {
   "cell_type": "code",
   "execution_count": 8,
   "id": "2a56f33c",
   "metadata": {},
   "outputs": [
    {
     "name": "stdout",
     "output_type": "stream",
     "text": [
      "x: 10\n"
     ]
    }
   ],
   "source": [
    "# Simple assignment\n",
    "x = 10\n",
    "print(\"x: \", x)  # Output: x: 10"
   ]
  },
  {
   "cell_type": "code",
   "execution_count": 9,
   "id": "c9780c4d",
   "metadata": {},
   "outputs": [
    {
     "name": "stdout",
     "output_type": "stream",
     "text": [
      "x: 15\n"
     ]
    }
   ],
   "source": [
    "# Addition assignment\n",
    "x += 5  # Equivalent to x = x + 5\n",
    "print(\"x: \", x)  # Output: x: 15"
   ]
  },
  {
   "cell_type": "code",
   "execution_count": 10,
   "id": "7e1016cf",
   "metadata": {},
   "outputs": [
    {
     "name": "stdout",
     "output_type": "stream",
     "text": [
      "x: 12\n"
     ]
    }
   ],
   "source": [
    "# Subtraction assignment\n",
    "x -= 3  # Equivalent to x = x - 3\n",
    "print(\"x: \", x)  # Output: x: 12"
   ]
  },
  {
   "cell_type": "code",
   "execution_count": 11,
   "id": "3c47cb5a",
   "metadata": {},
   "outputs": [
    {
     "name": "stdout",
     "output_type": "stream",
     "text": [
      "x: 24\n"
     ]
    }
   ],
   "source": [
    "# Multiplication assignment\n",
    "x *= 2  # Equivalent to x = x * 2\n",
    "print(\"x: \", x)  # Output: x: 24"
   ]
  },
  {
   "cell_type": "code",
   "execution_count": 12,
   "id": "b9c53684",
   "metadata": {},
   "outputs": [
    {
     "name": "stdout",
     "output_type": "stream",
     "text": [
      "x: 6.0\n"
     ]
    }
   ],
   "source": [
    "# Division assignment\n",
    "x /= 4  # Equivalent to x = x / 4\n",
    "print(\"x: \", x)  # Output: x: 6.0"
   ]
  },
  {
   "cell_type": "code",
   "execution_count": 13,
   "id": "4cc2e6a3",
   "metadata": {},
   "outputs": [],
   "source": [
    "# Other assignment operators: //=, %=, **="
   ]
  },
  {
   "cell_type": "markdown",
   "id": "5441d9d7",
   "metadata": {},
   "source": [
    "### Comparison Operators"
   ]
  },
  {
   "cell_type": "code",
   "execution_count": 14,
   "id": "a5c08679",
   "metadata": {},
   "outputs": [
    {
     "name": "stdout",
     "output_type": "stream",
     "text": [
      "False\n"
     ]
    }
   ],
   "source": [
    "# Equal to\n",
    "print(a == b)  # Output: False"
   ]
  },
  {
   "cell_type": "code",
   "execution_count": 15,
   "id": "255aac76",
   "metadata": {},
   "outputs": [
    {
     "name": "stdout",
     "output_type": "stream",
     "text": [
      "True\n"
     ]
    }
   ],
   "source": [
    "# Not equal to\n",
    "print(a != b)  # Output: True"
   ]
  },
  {
   "cell_type": "code",
   "execution_count": 16,
   "id": "4ae06766",
   "metadata": {},
   "outputs": [
    {
     "name": "stdout",
     "output_type": "stream",
     "text": [
      "True\n"
     ]
    }
   ],
   "source": [
    "# Greater than\n",
    "print(a > b)  # Output: True"
   ]
  },
  {
   "cell_type": "code",
   "execution_count": 17,
   "id": "61a1cbe0",
   "metadata": {},
   "outputs": [
    {
     "name": "stdout",
     "output_type": "stream",
     "text": [
      "False\n"
     ]
    }
   ],
   "source": [
    "# Less than\n",
    "print(a < b)  # Output: False"
   ]
  },
  {
   "cell_type": "code",
   "execution_count": 18,
   "id": "691def14",
   "metadata": {},
   "outputs": [
    {
     "name": "stdout",
     "output_type": "stream",
     "text": [
      "True\n"
     ]
    }
   ],
   "source": [
    "# Greater than or equal to\n",
    "print(a >= b)  # Output: True"
   ]
  },
  {
   "cell_type": "code",
   "execution_count": 19,
   "id": "1ac26582",
   "metadata": {},
   "outputs": [
    {
     "name": "stdout",
     "output_type": "stream",
     "text": [
      "False\n"
     ]
    }
   ],
   "source": [
    "# Less than or equal to\n",
    "print(a <= b)  # Output: False"
   ]
  },
  {
   "cell_type": "markdown",
   "id": "a9186f14",
   "metadata": {},
   "source": [
    "### Logical Operators"
   ]
  },
  {
   "cell_type": "code",
   "execution_count": 21,
   "id": "095230cc",
   "metadata": {},
   "outputs": [
    {
     "name": "stdout",
     "output_type": "stream",
     "text": [
      "False\n"
     ]
    }
   ],
   "source": [
    "# Logical AND\n",
    "p = True\n",
    "q = False\n",
    "print(p and q)  # Output: False"
   ]
  },
  {
   "cell_type": "code",
   "execution_count": 22,
   "id": "48fbe777",
   "metadata": {},
   "outputs": [
    {
     "name": "stdout",
     "output_type": "stream",
     "text": [
      "True\n"
     ]
    }
   ],
   "source": [
    "# Logical OR\n",
    "print(p or q)  # Output: True"
   ]
  },
  {
   "cell_type": "code",
   "execution_count": 23,
   "id": "a7e454a9",
   "metadata": {},
   "outputs": [
    {
     "name": "stdout",
     "output_type": "stream",
     "text": [
      "False\n"
     ]
    }
   ],
   "source": [
    "# Logical NOT\n",
    "print(not p)  # Output: False"
   ]
  },
  {
   "cell_type": "code",
   "execution_count": 24,
   "id": "04fa8c63",
   "metadata": {},
   "outputs": [
    {
     "name": "stdout",
     "output_type": "stream",
     "text": [
      "Eligible for student discount.\n"
     ]
    }
   ],
   "source": [
    "# Example combining logical and comparison operators:\n",
    "age = 20\n",
    "is_student = True\n",
    "\n",
    "if age >= 18 and is_student:\n",
    "  print(\"Eligible for student discount.\")\n",
    "elif age >= 18 or is_student:\n",
    "    print(\"Eligible for some other discount\")\n",
    "else:\n",
    "  print(\"Not eligible for any discount.\")"
   ]
  },
  {
   "cell_type": "markdown",
   "id": "e19badfa",
   "metadata": {},
   "source": [
    "# String\n",
    "A sequence of characters used to store and manipulate text."
   ]
  },
  {
   "cell_type": "code",
   "execution_count": 9,
   "id": "76135964",
   "metadata": {},
   "outputs": [
    {
     "name": "stdout",
     "output_type": "stream",
     "text": [
      "Learn Python\n"
     ]
    }
   ],
   "source": [
    "text = \"Learn Python\"\n",
    "print(text)"
   ]
  },
  {
   "cell_type": "code",
   "execution_count": 10,
   "id": "9eb39616",
   "metadata": {},
   "outputs": [
    {
     "name": "stdout",
     "output_type": "stream",
     "text": [
      "Learn Python\n"
     ]
    }
   ],
   "source": [
    "text = 'Learn Python'\n",
    "print(text)"
   ]
  },
  {
   "cell_type": "code",
   "execution_count": 12,
   "id": "c07259df",
   "metadata": {},
   "outputs": [
    {
     "name": "stdout",
     "output_type": "stream",
     "text": [
      "\n",
      "India is my country\n",
      "All indians are my brothers and sisters\n",
      "I love my country\n",
      "\n"
     ]
    }
   ],
   "source": [
    "text = \"\"\"\n",
    "India is my country\n",
    "All indians are my brothers and sisters\n",
    "I love my country\n",
    "\"\"\"\n",
    "print(text)"
   ]
  },
  {
   "cell_type": "code",
   "execution_count": 13,
   "id": "8ea91dfe",
   "metadata": {},
   "outputs": [
    {
     "name": "stdout",
     "output_type": "stream",
     "text": [
      "\n",
      "India is my country\n",
      "All indians are my brothers and sisters\n",
      "I love my country\n",
      "\n"
     ]
    }
   ],
   "source": [
    "text = '''\n",
    "India is my country\n",
    "All indians are my brothers and sisters\n",
    "I love my country\n",
    "'''\n",
    "print(text)"
   ]
  },
  {
   "cell_type": "code",
   "execution_count": 14,
   "id": "b50adebf",
   "metadata": {},
   "outputs": [
    {
     "name": "stdout",
     "output_type": "stream",
     "text": [
      "L\n"
     ]
    }
   ],
   "source": [
    "text = \"Learn Python\"\n",
    "print(text[0])"
   ]
  },
  {
   "cell_type": "code",
   "execution_count": 16,
   "id": "1698f8d4",
   "metadata": {},
   "outputs": [
    {
     "name": "stdout",
     "output_type": "stream",
     "text": [
      "Learn\n"
     ]
    }
   ],
   "source": [
    "text = \"Learn Python\"\n",
    "print(text[0:5])"
   ]
  },
  {
   "cell_type": "code",
   "execution_count": 17,
   "id": "f8245bfa",
   "metadata": {},
   "outputs": [
    {
     "name": "stdout",
     "output_type": "stream",
     "text": [
      "12\n"
     ]
    }
   ],
   "source": [
    "text = \"Learn Python\"\n",
    "print(len(text))"
   ]
  },
  {
   "cell_type": "code",
   "execution_count": 19,
   "id": "89bf68a2",
   "metadata": {},
   "outputs": [
    {
     "name": "stdout",
     "output_type": "stream",
     "text": [
      "   Learn Python\n",
      "Learn Python\n"
     ]
    }
   ],
   "source": [
    "text = \"   Learn Python  \"\n",
    "print(text)\n",
    "print(text.strip())"
   ]
  },
  {
   "cell_type": "code",
   "execution_count": 20,
   "id": "0913689e",
   "metadata": {},
   "outputs": [
    {
     "name": "stdout",
     "output_type": "stream",
     "text": [
      "learn python\n"
     ]
    }
   ],
   "source": [
    "text = \"LEARN PYTHON\"\n",
    "print(text.lower())"
   ]
  },
  {
   "cell_type": "code",
   "execution_count": 21,
   "id": "30dd2b92",
   "metadata": {},
   "outputs": [
    {
     "name": "stdout",
     "output_type": "stream",
     "text": [
      "LEARN PYTHON\n"
     ]
    }
   ],
   "source": [
    "text = \"learn python\"\n",
    "print(text.upper())"
   ]
  },
  {
   "cell_type": "code",
   "execution_count": 22,
   "id": "fb6b8fa1",
   "metadata": {},
   "outputs": [
    {
     "name": "stdout",
     "output_type": "stream",
     "text": [
      "learn jython\n"
     ]
    }
   ],
   "source": [
    "text = \"learn python\"\n",
    "print(text.replace(\"p\", \"j\"))"
   ]
  },
  {
   "cell_type": "code",
   "execution_count": 23,
   "id": "ee208214",
   "metadata": {},
   "outputs": [
    {
     "name": "stdout",
     "output_type": "stream",
     "text": [
      "Learn Python\n"
     ]
    }
   ],
   "source": [
    "a = \"Learn \"\n",
    "b = \"Python\"\n",
    "c = a + b\n",
    "print(c)"
   ]
  },
  {
   "cell_type": "code",
   "execution_count": 25,
   "id": "66956a61",
   "metadata": {},
   "outputs": [
    {
     "name": "stdout",
     "output_type": "stream",
     "text": [
      "Learn Python with Kannur University\n"
     ]
    }
   ],
   "source": [
    "a = \"Learn \"\n",
    "b = \"Python\"\n",
    "d = \" with Kannur University\"\n",
    "c = a + b + d\n",
    "print(c)"
   ]
  },
  {
   "cell_type": "code",
   "execution_count": 26,
   "id": "b6bd0821",
   "metadata": {},
   "outputs": [
    {
     "name": "stdout",
     "output_type": "stream",
     "text": [
      "My name is John, I am 50 years old\n"
     ]
    }
   ],
   "source": [
    "text = \"My name is John, I am 50 years old\"\n",
    "print(text)"
   ]
  },
  {
   "cell_type": "code",
   "execution_count": 27,
   "id": "af4dfa3c",
   "metadata": {},
   "outputs": [
    {
     "name": "stdout",
     "output_type": "stream",
     "text": [
      "My name is John, I am 50 years old\n"
     ]
    }
   ],
   "source": [
    "name = 'John'\n",
    "text = \"My name is {}, I am 50 years old\"\n",
    "print(text.format(name))"
   ]
  },
  {
   "cell_type": "code",
   "execution_count": 28,
   "id": "a3aeab0a",
   "metadata": {},
   "outputs": [
    {
     "name": "stdout",
     "output_type": "stream",
     "text": [
      "My name is Anil, I am 25 years old\n"
     ]
    }
   ],
   "source": [
    "name = 'Anil'\n",
    "age = 25\n",
    "text = \"My name is {}, I am {} years old\"\n",
    "print(text.format(name, age))"
   ]
  },
  {
   "cell_type": "markdown",
   "id": "9cae9dab",
   "metadata": {},
   "source": [
    "# List\n",
    "An ordered, mutable collection of elements that allows duplicates."
   ]
  },
  {
   "cell_type": "code",
   "execution_count": 4,
   "id": "043e9b10",
   "metadata": {},
   "outputs": [
    {
     "name": "stdout",
     "output_type": "stream",
     "text": [
      "['Onion', 'Tomato', 'carrot']\n"
     ]
    }
   ],
   "source": [
    "list1 = ['Onion','Tomato','carrot']\n",
    "print(list1)"
   ]
  },
  {
   "cell_type": "code",
   "execution_count": 3,
   "id": "ce197190",
   "metadata": {},
   "outputs": [
    {
     "name": "stdout",
     "output_type": "stream",
     "text": [
      "3\n"
     ]
    }
   ],
   "source": [
    "print(len(list1))"
   ]
  },
  {
   "cell_type": "code",
   "execution_count": 5,
   "id": "c41f7d2e",
   "metadata": {},
   "outputs": [
    {
     "name": "stdout",
     "output_type": "stream",
     "text": [
      "Tomato\n"
     ]
    }
   ],
   "source": [
    "print(list1[1])"
   ]
  },
  {
   "cell_type": "code",
   "execution_count": 7,
   "id": "a381b45e",
   "metadata": {},
   "outputs": [
    {
     "name": "stdout",
     "output_type": "stream",
     "text": [
      "40\n"
     ]
    }
   ],
   "source": [
    "list2 = [10,20,30,40]\n",
    "sum = list2[0]+list2[2]\n",
    "print(sum)"
   ]
  },
  {
   "cell_type": "code",
   "execution_count": 8,
   "id": "a504c572",
   "metadata": {},
   "outputs": [
    {
     "name": "stdout",
     "output_type": "stream",
     "text": [
      "['Cabbage', 'Tomato', 'carrot']\n"
     ]
    }
   ],
   "source": [
    "list1[0] = \"Cabbage\"\n",
    "print(list1)"
   ]
  },
  {
   "cell_type": "code",
   "execution_count": 9,
   "id": "a46a756a",
   "metadata": {},
   "outputs": [
    {
     "name": "stdout",
     "output_type": "stream",
     "text": [
      "Cabbage\n",
      "Tomato\n",
      "carrot\n"
     ]
    }
   ],
   "source": [
    "for x in list1:\n",
    "    print(x)"
   ]
  },
  {
   "cell_type": "code",
   "execution_count": 10,
   "id": "6ded3b6f",
   "metadata": {},
   "outputs": [
    {
     "name": "stdout",
     "output_type": "stream",
     "text": [
      "['Cabbage', 'Tomato', 'carrot', 'Orange']\n"
     ]
    }
   ],
   "source": [
    "list1.append(\"Orange\")\n",
    "print(list1)"
   ]
  },
  {
   "cell_type": "code",
   "execution_count": 11,
   "id": "df183306",
   "metadata": {},
   "outputs": [
    {
     "name": "stdout",
     "output_type": "stream",
     "text": [
      "['Cabbage', 'Tomato', 'Grape', 'carrot', 'Orange']\n"
     ]
    }
   ],
   "source": [
    "list1.insert(2, \"Grape\")\n",
    "print(list1)"
   ]
  },
  {
   "cell_type": "code",
   "execution_count": 12,
   "id": "fbc9758c",
   "metadata": {},
   "outputs": [
    {
     "name": "stdout",
     "output_type": "stream",
     "text": [
      "['Cabbage', 'Tomato', 'carrot', 'Orange']\n"
     ]
    }
   ],
   "source": [
    "list1.remove(\"Grape\")\n",
    "print(list1)"
   ]
  },
  {
   "cell_type": "code",
   "execution_count": 13,
   "id": "f1d99385",
   "metadata": {},
   "outputs": [
    {
     "name": "stdout",
     "output_type": "stream",
     "text": [
      "[]\n"
     ]
    }
   ],
   "source": [
    "list1.clear()\n",
    "print(list1)"
   ]
  },
  {
   "cell_type": "code",
   "execution_count": 14,
   "id": "e0998c20",
   "metadata": {},
   "outputs": [],
   "source": [
    "del list1"
   ]
  },
  {
   "cell_type": "code",
   "execution_count": 15,
   "id": "2cf1bfe4",
   "metadata": {},
   "outputs": [
    {
     "ename": "NameError",
     "evalue": "name 'list1' is not defined",
     "output_type": "error",
     "traceback": [
      "\u001b[1;31m---------------------------------------------------------------------------\u001b[0m",
      "\u001b[1;31mNameError\u001b[0m                                 Traceback (most recent call last)",
      "\u001b[1;32m<ipython-input-15-7fd613c3c7e4>\u001b[0m in \u001b[0;36m<module>\u001b[1;34m\u001b[0m\n\u001b[1;32m----> 1\u001b[1;33m \u001b[0mprint\u001b[0m\u001b[1;33m(\u001b[0m\u001b[0mlist1\u001b[0m\u001b[1;33m)\u001b[0m\u001b[1;33m\u001b[0m\u001b[1;33m\u001b[0m\u001b[0m\n\u001b[0m",
      "\u001b[1;31mNameError\u001b[0m: name 'list1' is not defined"
     ]
    }
   ],
   "source": [
    "print(list1)"
   ]
  },
  {
   "cell_type": "markdown",
   "id": "555842cd",
   "metadata": {},
   "source": [
    "# Tuple\n",
    "An ordered, immutable collection of elements, also allowing duplicates."
   ]
  },
  {
   "cell_type": "code",
   "execution_count": 31,
   "id": "96d5e596",
   "metadata": {},
   "outputs": [
    {
     "name": "stdout",
     "output_type": "stream",
     "text": [
      "('Tomato', 'Onion', 'Carrot')\n"
     ]
    }
   ],
   "source": [
    "tuple1 = (\"Tomato\", \"Onion\", \"Carrot\")\n",
    "print(tuple1)"
   ]
  },
  {
   "cell_type": "code",
   "execution_count": 18,
   "id": "cf81a367",
   "metadata": {},
   "outputs": [
    {
     "name": "stdout",
     "output_type": "stream",
     "text": [
      "Onion\n"
     ]
    }
   ],
   "source": [
    "print(tuple1[1])"
   ]
  },
  {
   "cell_type": "code",
   "execution_count": 19,
   "id": "4d34aae3",
   "metadata": {},
   "outputs": [
    {
     "name": "stdout",
     "output_type": "stream",
     "text": [
      "Tomato\n",
      "Onion\n",
      "Carrot\n"
     ]
    }
   ],
   "source": [
    "for x in tuple1:\n",
    "    print(x)"
   ]
  },
  {
   "cell_type": "code",
   "execution_count": 20,
   "id": "9b9061d1",
   "metadata": {},
   "outputs": [
    {
     "name": "stdout",
     "output_type": "stream",
     "text": [
      "3\n"
     ]
    }
   ],
   "source": [
    "print(len(tuple1))"
   ]
  },
  {
   "cell_type": "code",
   "execution_count": 21,
   "id": "1b6edc02",
   "metadata": {},
   "outputs": [],
   "source": [
    "del tuple1"
   ]
  },
  {
   "cell_type": "code",
   "execution_count": 23,
   "id": "cf59e82b",
   "metadata": {},
   "outputs": [
    {
     "ename": "NameError",
     "evalue": "name 'tuple1' is not defined",
     "output_type": "error",
     "traceback": [
      "\u001b[1;31m---------------------------------------------------------------------------\u001b[0m",
      "\u001b[1;31mNameError\u001b[0m                                 Traceback (most recent call last)",
      "\u001b[1;32m<ipython-input-23-e27b56724cb0>\u001b[0m in \u001b[0;36m<module>\u001b[1;34m\u001b[0m\n\u001b[1;32m----> 1\u001b[1;33m \u001b[0mprint\u001b[0m\u001b[1;33m(\u001b[0m\u001b[0mtuple1\u001b[0m\u001b[1;33m)\u001b[0m\u001b[1;33m\u001b[0m\u001b[1;33m\u001b[0m\u001b[0m\n\u001b[0m",
      "\u001b[1;31mNameError\u001b[0m: name 'tuple1' is not defined"
     ]
    }
   ],
   "source": [
    "print(tuple1)"
   ]
  },
  {
   "cell_type": "markdown",
   "id": "19a6e369",
   "metadata": {},
   "source": [
    "# Set\n",
    "An unordered, mutable collection of unique elements."
   ]
  },
  {
   "cell_type": "code",
   "execution_count": 29,
   "id": "dd001ce8",
   "metadata": {},
   "outputs": [
    {
     "name": "stdout",
     "output_type": "stream",
     "text": [
      "{'cabbage', 'carrot', 'Tomato'}\n"
     ]
    }
   ],
   "source": [
    "set1 = {\"Tomato\", \"carrot\", \"cabbage\"}\n",
    "print(set1)"
   ]
  },
  {
   "cell_type": "code",
   "execution_count": 25,
   "id": "6de2cf20",
   "metadata": {},
   "outputs": [
    {
     "name": "stdout",
     "output_type": "stream",
     "text": [
      "Tomato\n",
      "cabbage\n",
      "carrot\n"
     ]
    }
   ],
   "source": [
    "for x in set1:\n",
    "    print(x)"
   ]
  },
  {
   "cell_type": "code",
   "execution_count": 27,
   "id": "d77ef309",
   "metadata": {},
   "outputs": [
    {
     "name": "stdout",
     "output_type": "stream",
     "text": [
      "False\n"
     ]
    }
   ],
   "source": [
    "print(\"Orange\" in set1)"
   ]
  },
  {
   "cell_type": "code",
   "execution_count": 28,
   "id": "0d83abae",
   "metadata": {},
   "outputs": [
    {
     "name": "stdout",
     "output_type": "stream",
     "text": [
      "3\n"
     ]
    }
   ],
   "source": [
    "print(len(set1))"
   ]
  },
  {
   "cell_type": "code",
   "execution_count": 31,
   "id": "ee2762b5",
   "metadata": {},
   "outputs": [
    {
     "name": "stdout",
     "output_type": "stream",
     "text": [
      "{'Tomato', 'cabbage', 'carrot'}\n"
     ]
    }
   ],
   "source": [
    "print(set1)"
   ]
  },
  {
   "cell_type": "code",
   "execution_count": 32,
   "id": "014e1d31",
   "metadata": {},
   "outputs": [
    {
     "name": "stdout",
     "output_type": "stream",
     "text": [
      "{'Tomato', 'Onion', 'cabbage', 'carrot'}\n"
     ]
    }
   ],
   "source": [
    "set1.add(\"Onion\")\n",
    "print(set1)"
   ]
  },
  {
   "cell_type": "code",
   "execution_count": 33,
   "id": "1787e9f9",
   "metadata": {},
   "outputs": [
    {
     "name": "stdout",
     "output_type": "stream",
     "text": [
      "{'Tomato', 'Banana', 'Chilli', 'carrot', 'Onion', 'cabbage'}\n"
     ]
    }
   ],
   "source": [
    "set1.update([\"Banana\", \"Chilli\"])\n",
    "print(set1)"
   ]
  },
  {
   "cell_type": "code",
   "execution_count": 34,
   "id": "b48206fa",
   "metadata": {},
   "outputs": [
    {
     "name": "stdout",
     "output_type": "stream",
     "text": [
      "{'Tomato', 'Banana', 'carrot', 'Onion', 'cabbage'}\n"
     ]
    }
   ],
   "source": [
    "set1.remove(\"Chilli\")\n",
    "print(set1)"
   ]
  },
  {
   "cell_type": "code",
   "execution_count": 38,
   "id": "26a47442",
   "metadata": {},
   "outputs": [
    {
     "name": "stdout",
     "output_type": "stream",
     "text": [
      "{'Banana', 'Onion', 'cabbage'}\n"
     ]
    }
   ],
   "source": [
    "set1.discard(\"carrot\")\n",
    "print(set1)"
   ]
  },
  {
   "cell_type": "code",
   "execution_count": 39,
   "id": "bc94068d",
   "metadata": {},
   "outputs": [
    {
     "name": "stdout",
     "output_type": "stream",
     "text": [
      "{1, 2, 3, 'cabbage', 'Onion', 'Banana'}\n"
     ]
    }
   ],
   "source": [
    "set2 = {1,2,3}\n",
    "set3 = set1.union(set2)\n",
    "print(set3)"
   ]
  },
  {
   "cell_type": "code",
   "execution_count": 40,
   "id": "6f8706d0",
   "metadata": {},
   "outputs": [
    {
     "name": "stdout",
     "output_type": "stream",
     "text": [
      "set()\n"
     ]
    }
   ],
   "source": [
    "set1.clear()\n",
    "print(set1)"
   ]
  },
  {
   "cell_type": "code",
   "execution_count": 41,
   "id": "52e6ef95",
   "metadata": {},
   "outputs": [],
   "source": [
    "del set1"
   ]
  },
  {
   "cell_type": "code",
   "execution_count": 42,
   "id": "16c7e1ce",
   "metadata": {},
   "outputs": [
    {
     "ename": "NameError",
     "evalue": "name 'set1' is not defined",
     "output_type": "error",
     "traceback": [
      "\u001b[1;31m---------------------------------------------------------------------------\u001b[0m",
      "\u001b[1;31mNameError\u001b[0m                                 Traceback (most recent call last)",
      "\u001b[1;32m<ipython-input-42-8cd1d147a36c>\u001b[0m in \u001b[0;36m<module>\u001b[1;34m\u001b[0m\n\u001b[1;32m----> 1\u001b[1;33m \u001b[0mprint\u001b[0m\u001b[1;33m(\u001b[0m\u001b[0mset1\u001b[0m\u001b[1;33m)\u001b[0m\u001b[1;33m\u001b[0m\u001b[1;33m\u001b[0m\u001b[0m\n\u001b[0m",
      "\u001b[1;31mNameError\u001b[0m: name 'set1' is not defined"
     ]
    }
   ],
   "source": [
    "print(set1)"
   ]
  },
  {
   "cell_type": "markdown",
   "id": "fb145da3",
   "metadata": {},
   "source": [
    "# Dictionary\n",
    "A collection of key-value pairs, where each key is unique and used to access its associated value."
   ]
  },
  {
   "cell_type": "code",
   "execution_count": 32,
   "id": "9edb7e6b",
   "metadata": {},
   "outputs": [
    {
     "name": "stdout",
     "output_type": "stream",
     "text": [
      "{'name': 'Ebin', 'email': 'ebin@gmail', 'phone': 123456}\n"
     ]
    }
   ],
   "source": [
    "dict1 = {\"name\": \"Ebin\", \"email\": \"ebin@gmail\", \"phone\": 123456}\n",
    "print(dict1)"
   ]
  },
  {
   "cell_type": "code",
   "execution_count": 33,
   "id": "36515121",
   "metadata": {},
   "outputs": [
    {
     "name": "stdout",
     "output_type": "stream",
     "text": [
      "Ebin\n"
     ]
    }
   ],
   "source": [
    "a = dict1[\"name\"]\n",
    "print(a)\n",
    "#print(dict1[\"name\"])"
   ]
  },
  {
   "cell_type": "code",
   "execution_count": 34,
   "id": "9c02b200",
   "metadata": {},
   "outputs": [
    {
     "name": "stdout",
     "output_type": "stream",
     "text": [
      "ebin@gmail\n"
     ]
    }
   ],
   "source": [
    "b = dict1.get(\"email\")\n",
    "print(b)"
   ]
  },
  {
   "cell_type": "code",
   "execution_count": 35,
   "id": "bee44716",
   "metadata": {},
   "outputs": [
    {
     "name": "stdout",
     "output_type": "stream",
     "text": [
      "{'name': 'Ann', 'email': 'ebin@gmail', 'phone': 123456}\n"
     ]
    }
   ],
   "source": [
    "dict1[\"name\"] = \"Ann\"\n",
    "print(dict1)"
   ]
  },
  {
   "cell_type": "code",
   "execution_count": 49,
   "id": "acc93c97",
   "metadata": {},
   "outputs": [
    {
     "name": "stdout",
     "output_type": "stream",
     "text": [
      "Ann\n",
      "ebin@gmail\n",
      "123456\n"
     ]
    }
   ],
   "source": [
    "for x in dict1:\n",
    "    #print(x)\n",
    "    print(dict1[x])"
   ]
  },
  {
   "cell_type": "code",
   "execution_count": 50,
   "id": "7416191c",
   "metadata": {},
   "outputs": [
    {
     "name": "stdout",
     "output_type": "stream",
     "text": [
      "name Ann\n",
      "email ebin@gmail\n",
      "phone 123456\n"
     ]
    }
   ],
   "source": [
    "for x, y in dict1.items():\n",
    "    print(x,y)"
   ]
  },
  {
   "cell_type": "code",
   "execution_count": 51,
   "id": "862bbe5d",
   "metadata": {},
   "outputs": [
    {
     "name": "stdout",
     "output_type": "stream",
     "text": [
      "3\n"
     ]
    }
   ],
   "source": [
    "print(len(dict1))"
   ]
  },
  {
   "cell_type": "code",
   "execution_count": 52,
   "id": "a509b3b4",
   "metadata": {},
   "outputs": [
    {
     "name": "stdout",
     "output_type": "stream",
     "text": [
      "{'name': 'Ann', 'email': 'ebin@gmail', 'phone': 123456, 'Age': 30}\n"
     ]
    }
   ],
   "source": [
    "dict1[\"Age\"] = 30\n",
    "print(dict1)"
   ]
  },
  {
   "cell_type": "code",
   "execution_count": 53,
   "id": "0604a40a",
   "metadata": {},
   "outputs": [
    {
     "name": "stdout",
     "output_type": "stream",
     "text": [
      "{'name': 'Ann', 'phone': 123456, 'Age': 30}\n"
     ]
    }
   ],
   "source": [
    "dict1.pop(\"email\")\n",
    "print(dict1)"
   ]
  },
  {
   "cell_type": "code",
   "execution_count": 54,
   "id": "3eafdafd",
   "metadata": {},
   "outputs": [
    {
     "name": "stdout",
     "output_type": "stream",
     "text": [
      "{'name': 'Ann', 'Age': 30}\n"
     ]
    }
   ],
   "source": [
    "del dict1[\"phone\"]\n",
    "print(dict1)"
   ]
  },
  {
   "cell_type": "code",
   "execution_count": 55,
   "id": "d42d1f62",
   "metadata": {},
   "outputs": [
    {
     "name": "stdout",
     "output_type": "stream",
     "text": [
      "{}\n"
     ]
    }
   ],
   "source": [
    "dict1.clear()\n",
    "print(dict1)"
   ]
  },
  {
   "cell_type": "code",
   "execution_count": 56,
   "id": "fbdb0080",
   "metadata": {},
   "outputs": [],
   "source": [
    "del dict1"
   ]
  },
  {
   "cell_type": "markdown",
   "id": "cec3da1b",
   "metadata": {},
   "source": [
    "# If Statement"
   ]
  },
  {
   "cell_type": "code",
   "execution_count": 1,
   "id": "1a63e90b",
   "metadata": {},
   "outputs": [
    {
     "name": "stdout",
     "output_type": "stream",
     "text": [
      "The number 10 is even.\n"
     ]
    }
   ],
   "source": [
    "# Get a number from the user\n",
    "number = 10\n",
    "\n",
    "# Check if the number is even or odd\n",
    "if number % 2 == 0:\n",
    "    print(f\"The number {number} is even.\")\n",
    "else:\n",
    "    print(f\"The number {number} is odd.\")\n"
   ]
  },
  {
   "cell_type": "code",
   "execution_count": 2,
   "id": "e2812a08",
   "metadata": {},
   "outputs": [
    {
     "name": "stdout",
     "output_type": "stream",
     "text": [
      "Enter a number: 15\n",
      "The number 15 is odd.\n"
     ]
    }
   ],
   "source": [
    "# Get a number from the user\n",
    "number = int(input(\"Enter a number: \"))\n",
    "\n",
    "# Check if the number is even or odd\n",
    "if number % 2 == 0:\n",
    "    print(f\"The number {number} is even.\")\n",
    "else:\n",
    "    print(f\"The number {number} is odd.\")"
   ]
  },
  {
   "cell_type": "code",
   "execution_count": 3,
   "id": "8439258b",
   "metadata": {},
   "outputs": [
    {
     "name": "stdout",
     "output_type": "stream",
     "text": [
      "Enter a number: 17\n",
      "The number 17 is positive.\n"
     ]
    }
   ],
   "source": [
    "# Example 1: Check if a number is positive, negative, or zero\n",
    "# Get a number from the user\n",
    "number = int(input(\"Enter a number: \"))\n",
    "\n",
    "# Check if the number is positive, negative, or zero\n",
    "if number > 0:\n",
    "    print(f\"The number {number} is positive.\")\n",
    "else:\n",
    "    if number < 0:\n",
    "        print(f\"The number {number} is negative.\")\n",
    "    else:\n",
    "        print(f\"The number {number} is zero.\")"
   ]
  },
  {
   "cell_type": "code",
   "execution_count": 4,
   "id": "a8144037",
   "metadata": {},
   "outputs": [
    {
     "name": "stdout",
     "output_type": "stream",
     "text": [
      "Enter your age: 17\n",
      "You are not eligible to vote.\n"
     ]
    }
   ],
   "source": [
    "# Check if a person is eligible to vote\n",
    "# Get the person's age\n",
    "age = int(input(\"Enter your age: \"))\n",
    "\n",
    "# Check voting eligibility\n",
    "if age >= 18:\n",
    "    print(\"You are eligible to vote.\")\n",
    "else:\n",
    "    print(\"You are not eligible to vote.\")"
   ]
  },
  {
   "cell_type": "code",
   "execution_count": 7,
   "id": "934354b9",
   "metadata": {},
   "outputs": [
    {
     "name": "stdout",
     "output_type": "stream",
     "text": [
      "Enter a year: 2023\n",
      "2023 is not a leap year.\n"
     ]
    }
   ],
   "source": [
    "# Check if a year is a leap year\n",
    "# Get a year from the user\n",
    "year = int(input(\"Enter a year: \"))\n",
    "\n",
    "# Check if the year is a leap year\n",
    "if year % 4 == 0:\n",
    "    if year % 100 == 0:\n",
    "        if year % 400 == 0:\n",
    "            print(f\"{year} is a leap year.\")\n",
    "        else:\n",
    "            print(f\"{year} is not a leap year.\")\n",
    "    else:\n",
    "        print(f\"{year} is a leap year.\")\n",
    "else:\n",
    "    print(f\"{year} is not a leap year.\")"
   ]
  },
  {
   "cell_type": "code",
   "execution_count": 8,
   "id": "812945a2",
   "metadata": {},
   "outputs": [
    {
     "name": "stdout",
     "output_type": "stream",
     "text": [
      "Enter your marks: 45\n",
      "You failed the exam.\n"
     ]
    }
   ],
   "source": [
    "# Check if a student passed an exam\n",
    "# Get the student's marks\n",
    "marks = int(input(\"Enter your marks: \"))\n",
    "\n",
    "# Check if the student passed or failed\n",
    "if marks >= 50:\n",
    "    print(\"You passed the exam!\")\n",
    "else:\n",
    "    print(\"You failed the exam.\")"
   ]
  },
  {
   "cell_type": "markdown",
   "id": "67c20634",
   "metadata": {},
   "source": [
    "# Nested if statement"
   ]
  },
  {
   "cell_type": "code",
   "execution_count": 5,
   "id": "ba56105d",
   "metadata": {},
   "outputs": [
    {
     "name": "stdout",
     "output_type": "stream",
     "text": [
      "Enter your marks (0-100): 56\n",
      "Your grade is: F\n"
     ]
    }
   ],
   "source": [
    "# Program to determine the grade of a student based on marks\n",
    "\n",
    "# Input: Ask the user to enter their marks\n",
    "marks = int(input(\"Enter your marks (0-100): \"))\n",
    "\n",
    "# Outer if-else statement to check the validity of marks\n",
    "if 0 <= marks <= 100:\n",
    "    # Nested if-else to determine the grade\n",
    "    if marks >= 90:\n",
    "        grade = \"A\"\n",
    "    elif marks >= 80:\n",
    "        grade = \"B\"\n",
    "    elif marks >= 70:\n",
    "        grade = \"C\"\n",
    "    elif marks >= 60:\n",
    "        grade = \"D\"\n",
    "    else:\n",
    "        grade = \"F\"\n",
    "    \n",
    "    print(f\"Your grade is: {grade}\")\n",
    "else:\n",
    "    print(\"Invalid marks entered. Please enter a number between 0 and 100.\")"
   ]
  },
  {
   "cell_type": "code",
   "execution_count": 10,
   "id": "77a5459c",
   "metadata": {},
   "outputs": [
    {
     "name": "stdout",
     "output_type": "stream",
     "text": [
      "it is a positive number\n"
     ]
    }
   ],
   "source": [
    "a = -8\n",
    "if a>=0:\n",
    "    if a>0:\n",
    "        print(\"it is a positive number\")\n",
    "    else:\n",
    "        print(\"it is a zero\")\n",
    "else:\n",
    "    print(\"it is a negative number\")"
   ]
  },
  {
   "cell_type": "code",
   "execution_count": 13,
   "id": "5b00a09d",
   "metadata": {},
   "outputs": [
    {
     "name": "stdout",
     "output_type": "stream",
     "text": [
      "Hello\n"
     ]
    }
   ],
   "source": [
    "a = 10\n",
    "if a>5 and a<20:\n",
    "    print(\"Hello\")"
   ]
  },
  {
   "cell_type": "code",
   "execution_count": 9,
   "id": "cd623cda",
   "metadata": {},
   "outputs": [
    {
     "name": "stdout",
     "output_type": "stream",
     "text": [
      "Enter your age: 33\n",
      "You are an adult.\n"
     ]
    }
   ],
   "source": [
    "# Categorizing Age Groups\n",
    "# Get the age of a person\n",
    "age = int(input(\"Enter your age: \"))\n",
    "\n",
    "# Determine the age group\n",
    "if age >= 0:\n",
    "    if age < 13:\n",
    "        print(\"You are a child.\")\n",
    "    else:\n",
    "        if age < 20:\n",
    "            print(\"You are a teenager.\")\n",
    "        else:\n",
    "            if age < 65:\n",
    "                print(\"You are an adult.\")\n",
    "            else:\n",
    "                print(\"You are a senior.\")\n",
    "else:\n",
    "    print(\"Invalid age entered.\")"
   ]
  },
  {
   "cell_type": "code",
   "execution_count": 10,
   "id": "2d4c183a",
   "metadata": {},
   "outputs": [
    {
     "name": "stdout",
     "output_type": "stream",
     "text": [
      "Enter the first number: 10\n",
      "Enter the second number: 20\n",
      "Enter the third number: 40\n",
      "The largest number is 40.\n"
     ]
    }
   ],
   "source": [
    "# Write a program to find the largest of three numbers using nested if-else statements.\n",
    "# Get three numbers from the user\n",
    "num1 = int(input(\"Enter the first number: \"))\n",
    "num2 = int(input(\"Enter the second number: \"))\n",
    "num3 = int(input(\"Enter the third number: \"))\n",
    "\n",
    "# Find the largest number\n",
    "if num1 >= num2:\n",
    "    if num1 >= num3:\n",
    "        print(f\"The largest number is {num1}.\")\n",
    "    else:\n",
    "        print(f\"The largest number is {num3}.\")\n",
    "else:\n",
    "    if num2 >= num3:\n",
    "        print(f\"The largest number is {num2}.\")\n",
    "    else:\n",
    "        print(f\"The largest number is {num3}.\")\n"
   ]
  },
  {
   "cell_type": "markdown",
   "id": "53dd60f8",
   "metadata": {},
   "source": [
    "# While Loop"
   ]
  },
  {
   "cell_type": "code",
   "execution_count": 19,
   "id": "1a852a78",
   "metadata": {},
   "outputs": [
    {
     "name": "stdout",
     "output_type": "stream",
     "text": [
      "hello\n",
      "hello\n",
      "hello\n",
      "hello\n",
      "hello\n",
      "hello\n"
     ]
    }
   ],
   "source": [
    "i =0;\n",
    "a = \"hello\"\n",
    "while i <= 5:\n",
    "    print(a)\n",
    "    i+=1 # i = i+1"
   ]
  },
  {
   "cell_type": "code",
   "execution_count": 10,
   "id": "ba165021",
   "metadata": {},
   "outputs": [
    {
     "name": "stdout",
     "output_type": "stream",
     "text": [
      "0\n",
      "1\n",
      "2\n",
      "3\n",
      "4\n",
      "5\n",
      "6\n",
      "7\n",
      "8\n",
      "9\n",
      "10\n"
     ]
    }
   ],
   "source": [
    "i = 0\n",
    "while i < 11:\n",
    "    print(i)\n",
    "    i = i+1"
   ]
  },
  {
   "cell_type": "code",
   "execution_count": 16,
   "id": "8628dfcc",
   "metadata": {},
   "outputs": [
    {
     "name": "stdout",
     "output_type": "stream",
     "text": [
      "1\n",
      "2\n",
      "3\n"
     ]
    }
   ],
   "source": [
    "i = 1\n",
    "while i < 6:\n",
    "  print(i)\n",
    "  if i == 3:\n",
    "    break\n",
    "  i += 1 "
   ]
  },
  {
   "cell_type": "code",
   "execution_count": 22,
   "id": "9588ded0",
   "metadata": {},
   "outputs": [
    {
     "name": "stdout",
     "output_type": "stream",
     "text": [
      "*\n",
      "**\n",
      "***\n",
      "****\n",
      "*****\n"
     ]
    }
   ],
   "source": [
    "# Right-Angled Triangle of Stars\n",
    "# Initialize variables\n",
    "rows = 5\n",
    "i = 1\n",
    "\n",
    "# Print the pattern\n",
    "while i <= rows:\n",
    "    print(\"*\"*i)\n",
    "    i += 1"
   ]
  },
  {
   "cell_type": "code",
   "execution_count": 12,
   "id": "60950ea4",
   "metadata": {},
   "outputs": [
    {
     "name": "stdout",
     "output_type": "stream",
     "text": [
      "*****\n",
      "****\n",
      "***\n",
      "**\n",
      "*\n"
     ]
    }
   ],
   "source": [
    "# Inverted Right-Angled Triangle\n",
    "# Initialize variables\n",
    "rows = 5\n",
    "i = rows\n",
    "\n",
    "# Print the pattern\n",
    "while i > 0:\n",
    "    print(\"*\" * i)\n",
    "    i -= 1"
   ]
  },
  {
   "cell_type": "code",
   "execution_count": 25,
   "id": "a20aa325",
   "metadata": {},
   "outputs": [
    {
     "name": "stdout",
     "output_type": "stream",
     "text": [
      "    *\n",
      "   ***\n",
      "  *****\n",
      " *******\n",
      "*********\n"
     ]
    }
   ],
   "source": [
    "#  Pyramid Pattern\n",
    "# Initialize variables\n",
    "rows = 5\n",
    "i = 1\n",
    "\n",
    "# Print the pattern\n",
    "while i <= rows:\n",
    "    print(\" \" * (rows - i) + \"*\" * (2 * i - 1))\n",
    "    i += 1"
   ]
  },
  {
   "cell_type": "code",
   "execution_count": 4,
   "id": "80de6fff",
   "metadata": {},
   "outputs": [
    {
     "name": "stdout",
     "output_type": "stream",
     "text": [
      "*********\n",
      " *******\n",
      "  *****\n",
      "   ***\n",
      "    *\n"
     ]
    }
   ],
   "source": [
    "# Inverted Pyramid Pattern\n",
    "# Initialize variables\n",
    "rows = 5\n",
    "i = rows\n",
    "\n",
    "# Print the pattern\n",
    "while i >= 1:\n",
    "    print(\" \" * (rows - i) + \"*\" * (2 * i - 1))\n",
    "    i -= 1"
   ]
  },
  {
   "cell_type": "code",
   "execution_count": 24,
   "id": "dc07b1c5",
   "metadata": {},
   "outputs": [
    {
     "name": "stdout",
     "output_type": "stream",
     "text": [
      "1\n",
      "12\n",
      "123\n",
      "1234\n",
      "12345\n"
     ]
    }
   ],
   "source": [
    "# Inverted Number Triangl# e\n",
    "# Initialize variables\n",
    "rows = 5\n",
    "i = 1\n",
    "\n",
    "# Print the pattern\n",
    "while i <= rows:\n",
    "    j = 1\n",
    "    while j <= i:\n",
    "        print(j, end=\"\")\n",
    "        j += 1\n",
    "    print()\n",
    "    i += 1"
   ]
  },
  {
   "cell_type": "markdown",
   "id": "c689265b",
   "metadata": {},
   "source": [
    "# for loop"
   ]
  },
  {
   "cell_type": "code",
   "execution_count": 20,
   "id": "9976eae9",
   "metadata": {},
   "outputs": [
    {
     "name": "stdout",
     "output_type": "stream",
     "text": [
      "h\n",
      "e\n",
      "l\n",
      "l\n",
      "o\n"
     ]
    }
   ],
   "source": [
    "a = \"hello\"\n",
    "for i in a:\n",
    "    print(i)"
   ]
  },
  {
   "cell_type": "code",
   "execution_count": 22,
   "id": "7bb5f6e5",
   "metadata": {},
   "outputs": [
    {
     "name": "stdout",
     "output_type": "stream",
     "text": [
      "o\n"
     ]
    }
   ],
   "source": [
    "for i in a[4]:\n",
    "    print(i)"
   ]
  },
  {
   "cell_type": "code",
   "execution_count": 25,
   "id": "14d93f82",
   "metadata": {},
   "outputs": [
    {
     "name": "stdout",
     "output_type": "stream",
     "text": [
      "toamto\n",
      "onion\n",
      "cabage\n"
     ]
    }
   ],
   "source": [
    "a = [\"toamto\", \"onion\", \"cabage\"]\n",
    "for i in a:\n",
    "    print(i)"
   ]
  },
  {
   "cell_type": "code",
   "execution_count": 29,
   "id": "a36ca6fb",
   "metadata": {},
   "outputs": [
    {
     "name": "stdout",
     "output_type": "stream",
     "text": [
      "0\n",
      "1\n",
      "2\n",
      "3\n",
      "4\n",
      "5\n"
     ]
    }
   ],
   "source": [
    "for i in range(6):\n",
    "    print(i)"
   ]
  },
  {
   "cell_type": "code",
   "execution_count": 28,
   "id": "4edbc833",
   "metadata": {},
   "outputs": [
    {
     "name": "stdout",
     "output_type": "stream",
     "text": [
      "1\n",
      "2\n",
      "3\n",
      "4\n",
      "5\n"
     ]
    }
   ],
   "source": [
    "for i in range(1,6):\n",
    "    print(i)"
   ]
  },
  {
   "cell_type": "code",
   "execution_count": 3,
   "id": "db439e7d",
   "metadata": {},
   "outputs": [
    {
     "name": "stdout",
     "output_type": "stream",
     "text": [
      "1\n",
      "2\n",
      "3\n",
      "4\n",
      "Breaking at: 5\n"
     ]
    }
   ],
   "source": [
    "for i in range(1, 11):\n",
    "    if i == 5:\n",
    "        print(\"Breaking at:\", i)\n",
    "        break\n",
    "    print(i)"
   ]
  },
  {
   "cell_type": "code",
   "execution_count": 2,
   "id": "12384e50",
   "metadata": {},
   "outputs": [
    {
     "name": "stdout",
     "output_type": "stream",
     "text": [
      "1\n",
      "3\n",
      "5\n",
      "7\n",
      "9\n"
     ]
    }
   ],
   "source": [
    "for i in range(1, 11):\n",
    "    if i % 2 == 0:\n",
    "        continue\n",
    "    print(i)"
   ]
  },
  {
   "cell_type": "code",
   "execution_count": 1,
   "id": "892150a9",
   "metadata": {},
   "outputs": [
    {
     "name": "stdout",
     "output_type": "stream",
     "text": [
      "3 x 1 = 3\n",
      "3 x 2 = 6\n",
      "3 x 3 = 9\n",
      "3 x 4 = 12\n",
      "3 x 5 = 15\n",
      "3 x 6 = 18\n",
      "3 x 7 = 21\n",
      "3 x 8 = 24\n",
      "3 x 9 = 27\n",
      "3 x 10 = 30\n"
     ]
    }
   ],
   "source": [
    "number = 3\n",
    "for i in range(1, 11):\n",
    "    print(f\"{number} x {i} = {number * i}\")"
   ]
  },
  {
   "cell_type": "markdown",
   "id": "984efda1",
   "metadata": {},
   "source": [
    "# Python Functions"
   ]
  },
  {
   "cell_type": "code",
   "execution_count": 31,
   "id": "6cf01d8a",
   "metadata": {},
   "outputs": [
    {
     "name": "stdout",
     "output_type": "stream",
     "text": [
      "Hello World\n"
     ]
    }
   ],
   "source": [
    "def message():\n",
    "    print(\"Hello World\")\n",
    "    \n",
    "message()"
   ]
  },
  {
   "cell_type": "code",
   "execution_count": 34,
   "id": "017a933b",
   "metadata": {},
   "outputs": [
    {
     "name": "stdout",
     "output_type": "stream",
     "text": [
      "Hello Anil\n",
      "Hello John\n"
     ]
    }
   ],
   "source": [
    "def message(name):\n",
    "    print(\"Hello \" + name)\n",
    "    \n",
    "message(\"Anil\")\n",
    "message(\"John\")"
   ]
  },
  {
   "cell_type": "code",
   "execution_count": 36,
   "id": "d1c89e99",
   "metadata": {},
   "outputs": [
    {
     "name": "stdout",
     "output_type": "stream",
     "text": [
      "30\n"
     ]
    }
   ],
   "source": [
    "def find_sum(num1, num2):\n",
    "    print(num1 + num2)\n",
    "    \n",
    "find_sum(10, 20)"
   ]
  },
  {
   "cell_type": "code",
   "execution_count": 37,
   "id": "7c7d3a51",
   "metadata": {},
   "outputs": [
    {
     "name": "stdout",
     "output_type": "stream",
     "text": [
      "30\n"
     ]
    }
   ],
   "source": [
    "def find_sum():\n",
    "    return 10 + 20\n",
    "    \n",
    "print(find_sum())"
   ]
  },
  {
   "cell_type": "code",
   "execution_count": 26,
   "id": "f5b57fbd",
   "metadata": {},
   "outputs": [
    {
     "name": "stdout",
     "output_type": "stream",
     "text": [
      "100\n"
     ]
    }
   ],
   "source": [
    "def find_square(num):\n",
    "    return num * num\n",
    "\n",
    "print(find_square(10))"
   ]
  },
  {
   "cell_type": "markdown",
   "id": "86dc8967",
   "metadata": {},
   "source": [
    "# Python Recursion"
   ]
  },
  {
   "cell_type": "code",
   "execution_count": 41,
   "id": "130dcfb2",
   "metadata": {},
   "outputs": [
    {
     "name": "stdout",
     "output_type": "stream",
     "text": [
      "Sum =  15\n"
     ]
    }
   ],
   "source": [
    "def recursion(n):\n",
    "    if n <= 1:\n",
    "        return n\n",
    "    else:\n",
    "        return n + recursion(n -1)\n",
    "s = recursion(5)\n",
    "print(\"Sum = \", s)"
   ]
  },
  {
   "cell_type": "markdown",
   "id": "812bfa4b",
   "metadata": {},
   "source": [
    "# Python Lambda\n",
    "anonymous function"
   ]
  },
  {
   "cell_type": "code",
   "execution_count": 27,
   "id": "5c85e27e",
   "metadata": {},
   "outputs": [
    {
     "name": "stdout",
     "output_type": "stream",
     "text": [
      "100\n"
     ]
    }
   ],
   "source": [
    "def square(num):\n",
    "    return num * num\n",
    "print(find_square(10))"
   ]
  },
  {
   "cell_type": "code",
   "execution_count": 47,
   "id": "d554ffad",
   "metadata": {},
   "outputs": [
    {
     "name": "stdout",
     "output_type": "stream",
     "text": [
      "100\n"
     ]
    }
   ],
   "source": [
    "l = lambda x : x * x\n",
    "print(l(10))"
   ]
  },
  {
   "cell_type": "code",
   "execution_count": 48,
   "id": "27422d52",
   "metadata": {},
   "outputs": [
    {
     "name": "stdout",
     "output_type": "stream",
     "text": [
      "[2, 4, 6, 8, 10]\n"
     ]
    }
   ],
   "source": [
    "list1 = [1, 2, 3, 4, 5, 6, 7, 8, 9, 10]\n",
    "def even(x):\n",
    "    if x % 2 == 0:\n",
    "        return x\n",
    "f = filter(even, list1)\n",
    "print(list(f))        "
   ]
  },
  {
   "cell_type": "code",
   "execution_count": 49,
   "id": "1f69d514",
   "metadata": {},
   "outputs": [
    {
     "name": "stdout",
     "output_type": "stream",
     "text": [
      "[2, 4, 6, 8, 10]\n"
     ]
    }
   ],
   "source": [
    "list1 = [1, 2, 3, 4, 5, 6, 7, 8, 9, 10]\n",
    "\n",
    "f = filter(lambda x: x % 2 == 0, list1)\n",
    "print(list(f))        "
   ]
  },
  {
   "cell_type": "code",
   "execution_count": 57,
   "id": "f459ba46",
   "metadata": {},
   "outputs": [
    {
     "name": "stdout",
     "output_type": "stream",
     "text": [
      "8\n"
     ]
    }
   ],
   "source": [
    "import random\n",
    "random_number = random.randint(0, 10)\n",
    "print(random_number) "
   ]
  },
  {
   "cell_type": "code",
   "execution_count": 54,
   "id": "b1c776c6",
   "metadata": {},
   "outputs": [
    {
     "name": "stdout",
     "output_type": "stream",
     "text": [
      "Aaj Tak\n"
     ]
    }
   ],
   "source": [
    "lst = [\"Star Plus\", \"DD1\", \"Aaj Tak\", \"CodeWithHarry\"]\n",
    "choice = random.choice(lst)\n",
    "print(choice)"
   ]
  },
  {
   "cell_type": "code",
   "execution_count": 60,
   "id": "319a09d2",
   "metadata": {},
   "outputs": [
    {
     "name": "stdout",
     "output_type": "stream",
     "text": [
      "Note: you may need to restart the kernel to use updated packages.\n"
     ]
    },
    {
     "name": "stderr",
     "output_type": "stream",
     "text": [
      "'C:\\Users\\EBIN' is not recognized as an internal or external command,\n",
      "operable program or batch file.\n"
     ]
    }
   ],
   "source": [
    "pip install matplotlib"
   ]
  },
  {
   "cell_type": "code",
   "execution_count": 59,
   "id": "160feb92",
   "metadata": {},
   "outputs": [
    {
     "data": {
      "image/png": "[encoded data removed]",
      "text/plain": [
       "<Figure size 432x288 with 1 Axes>"
      ]
     },
     "metadata": {
      "needs_background": "light"
     },
     "output_type": "display_data"
    }
   ],
   "source": [
    "# Import matplotlib module\n",
    "import matplotlib.pyplot as plt\n",
    "\n",
    "# Create  sample Data\n",
    "x = [0, 1, 2, 3, 4]\n",
    "y = [0, 1, 4, 9, 16]\n",
    "\n",
    "# Create a plot\n",
    "plt.plot(x, y)\n",
    "# plt.scatter(x, y)\n",
    "\n",
    "# Show the plot\n",
    "plt.show()"
   ]
  },
  {
   "cell_type": "markdown",
   "id": "869f8673",
   "metadata": {},
   "source": [
    "# Object Oriented Programming in Python\n",
    "Programming Pradigam/style based on objects.\n",
    "\n",
    "    Class: Blue print of Object\n",
    "    Object: Member of Class\n",
    "    Smart Phone, TV, Laptop -> Electronics\n",
    "    Car, Auto, Bus -> Vehicles\n",
    "    \n",
    "    Object -> Properties/Attributes & Methods/Functions\n",
    "                Car -> name, price, color -> Properties\n",
    "                car -> start(), run(), stop() -> Method"
   ]
  },
  {
   "cell_type": "code",
   "execution_count": 5,
   "id": "d744b49b",
   "metadata": {},
   "outputs": [],
   "source": [
    "class Cars:\n",
    "    def __init__(self, name, price, colour):\n",
    "        self.name = name\n",
    "        self.price = price\n",
    "        self.colour = colour\n",
    "    def start(self):\n",
    "        print(self.name + \" Engine Started\")\n",
    "car1 = Cars(\"Maruti Swift\", 10000, \"Red\")\n",
    "car2 = Cars(\"Toyota Innova\", 20000, \"White\")"
   ]
  },
  {
   "cell_type": "code",
   "execution_count": 8,
   "id": "f0e75b1b",
   "metadata": {},
   "outputs": [
    {
     "name": "stdout",
     "output_type": "stream",
     "text": [
      "Maruti Swift\n"
     ]
    }
   ],
   "source": [
    "print(car1.name)"
   ]
  },
  {
   "cell_type": "code",
   "execution_count": 9,
   "id": "5a5b8c8c",
   "metadata": {},
   "outputs": [
    {
     "name": "stdout",
     "output_type": "stream",
     "text": [
      "Toyota Innova 20000 White\n"
     ]
    }
   ],
   "source": [
    "print(car2.name, car2.price, car2.colour)"
   ]
  },
  {
   "cell_type": "code",
   "execution_count": 10,
   "id": "77ce51ec",
   "metadata": {},
   "outputs": [
    {
     "name": "stdout",
     "output_type": "stream",
     "text": [
      "Maruti Swift Engine Started\n"
     ]
    }
   ],
   "source": [
    "car1.start()"
   ]
  },
  {
   "cell_type": "code",
   "execution_count": 11,
   "id": "b2595ed2",
   "metadata": {},
   "outputs": [
    {
     "name": "stdout",
     "output_type": "stream",
     "text": [
      "Toyota Innova Engine Started\n"
     ]
    }
   ],
   "source": [
    "car2.start()"
   ]
  },
  {
   "cell_type": "code",
   "execution_count": 13,
   "id": "63fc40e6",
   "metadata": {},
   "outputs": [
    {
     "name": "stdout",
     "output_type": "stream",
     "text": [
      "Maruti Swift 25000 Red\n",
      "Toyota Innova 20000 Yellow\n"
     ]
    }
   ],
   "source": [
    "car1.price = 25000\n",
    "car2.colour = \"Yellow\"\n",
    "print(car1.name, car1.price, car1.colour)\n",
    "print(car2.name, car2.price, car2.colour)"
   ]
  },
  {
   "cell_type": "code",
   "execution_count": 14,
   "id": "21d47351",
   "metadata": {},
   "outputs": [
    {
     "ename": "AttributeError",
     "evalue": "'Cars' object has no attribute 'colour'",
     "output_type": "error",
     "traceback": [
      "\u001b[1;31m---------------------------------------------------------------------------\u001b[0m",
      "\u001b[1;31mAttributeError\u001b[0m                            Traceback (most recent call last)",
      "\u001b[1;32m<ipython-input-14-0fd69ff4befa>\u001b[0m in \u001b[0;36m<module>\u001b[1;34m\u001b[0m\n\u001b[0;32m      1\u001b[0m \u001b[1;32mdel\u001b[0m \u001b[0mcar1\u001b[0m\u001b[1;33m.\u001b[0m\u001b[0mcolour\u001b[0m\u001b[1;33m\u001b[0m\u001b[1;33m\u001b[0m\u001b[0m\n\u001b[1;32m----> 2\u001b[1;33m \u001b[0mprint\u001b[0m\u001b[1;33m(\u001b[0m\u001b[0mcar1\u001b[0m\u001b[1;33m.\u001b[0m\u001b[0mname\u001b[0m\u001b[1;33m,\u001b[0m \u001b[0mcar1\u001b[0m\u001b[1;33m.\u001b[0m\u001b[0mprice\u001b[0m\u001b[1;33m,\u001b[0m \u001b[0mcar1\u001b[0m\u001b[1;33m.\u001b[0m\u001b[0mcolour\u001b[0m\u001b[1;33m)\u001b[0m\u001b[1;33m\u001b[0m\u001b[1;33m\u001b[0m\u001b[0m\n\u001b[0m",
      "\u001b[1;31mAttributeError\u001b[0m: 'Cars' object has no attribute 'colour'"
     ]
    }
   ],
   "source": [
    "del car1.colour\n",
    "print(car1.name, car1.price, car1.colour)"
   ]
  },
  {
   "cell_type": "code",
   "execution_count": 16,
   "id": "e4b6489d",
   "metadata": {},
   "outputs": [
    {
     "ename": "NameError",
     "evalue": "name 'car2' is not defined",
     "output_type": "error",
     "traceback": [
      "\u001b[1;31m---------------------------------------------------------------------------\u001b[0m",
      "\u001b[1;31mNameError\u001b[0m                                 Traceback (most recent call last)",
      "\u001b[1;32m<ipython-input-16-efec83210add>\u001b[0m in \u001b[0;36m<module>\u001b[1;34m\u001b[0m\n\u001b[0;32m      1\u001b[0m \u001b[1;32mdel\u001b[0m \u001b[0mcar2\u001b[0m\u001b[1;33m\u001b[0m\u001b[1;33m\u001b[0m\u001b[0m\n\u001b[1;32m----> 2\u001b[1;33m \u001b[0mprint\u001b[0m\u001b[1;33m(\u001b[0m\u001b[0mcar2\u001b[0m\u001b[1;33m.\u001b[0m\u001b[0mname\u001b[0m\u001b[1;33m,\u001b[0m \u001b[0mcar2\u001b[0m\u001b[1;33m.\u001b[0m\u001b[0mprice\u001b[0m\u001b[1;33m,\u001b[0m \u001b[0mcar2\u001b[0m\u001b[1;33m.\u001b[0m\u001b[0mcolour\u001b[0m\u001b[1;33m)\u001b[0m\u001b[1;33m\u001b[0m\u001b[1;33m\u001b[0m\u001b[0m\n\u001b[0m",
      "\u001b[1;31mNameError\u001b[0m: name 'car2' is not defined"
     ]
    }
   ],
   "source": [
    "del car2\n",
    "print(car2.name, car2.price, car2.colour)"
   ]
  },
  {
   "cell_type": "code",
   "execution_count": 15,
   "id": "04fb2ec9",
   "metadata": {},
   "outputs": [
    {
     "name": "stdout",
     "output_type": "stream",
     "text": [
      "Maruti Swift 25000\n"
     ]
    }
   ],
   "source": [
    "print(car1.name, car1.price)"
   ]
  },
  {
   "cell_type": "markdown",
   "id": "a93274e7",
   "metadata": {},
   "source": [
    "# Inheritance in Python\n",
    "\n",
    "    Parents -> Child"
   ]
  },
  {
   "cell_type": "code",
   "execution_count": 17,
   "id": "6640b090",
   "metadata": {},
   "outputs": [
    {
     "name": "stdout",
     "output_type": "stream",
     "text": [
      "John 123456\n",
      "Anil 789456\n"
     ]
    }
   ],
   "source": [
    "# Parent Class\n",
    "class Person:\n",
    "    def __init__(self, name, contact):\n",
    "        self.name = name\n",
    "        self.contact = contact\n",
    "    def address(self):\n",
    "        print(self.name, self.contact)\n",
    "# Child Class\n",
    "class Doctor(Person):\n",
    "    \n",
    "    pass # no other method so pass used\n",
    "class Patient(Person):\n",
    "    pass\n",
    "\n",
    "# object for Doctor and Patient class\n",
    "doc1 = Doctor(\"John\", 123456)\n",
    "pat1 = Patient(\"Anil\", 789456)\n",
    "\n",
    "# Access Parent Class Method\n",
    "doc1.address()\n",
    "pat1.address()"
   ]
  },
  {
   "cell_type": "markdown",
   "id": "43342eeb",
   "metadata": {},
   "source": [
    "# Math Functions"
   ]
  },
  {
   "cell_type": "code",
   "execution_count": 18,
   "id": "54a53994",
   "metadata": {},
   "outputs": [
    {
     "name": "stdout",
     "output_type": "stream",
     "text": [
      "4\n"
     ]
    }
   ],
   "source": [
    "a = min(15, 4, 30, 8)\n",
    "print(a)"
   ]
  },
  {
   "cell_type": "code",
   "execution_count": 19,
   "id": "d774f488",
   "metadata": {},
   "outputs": [
    {
     "name": "stdout",
     "output_type": "stream",
     "text": [
      "30\n"
     ]
    }
   ],
   "source": [
    "a = max(15, 4, 30, 8)\n",
    "print(a)"
   ]
  },
  {
   "cell_type": "code",
   "execution_count": 20,
   "id": "87bb7772",
   "metadata": {},
   "outputs": [
    {
     "name": "stdout",
     "output_type": "stream",
     "text": [
      "8\n"
     ]
    }
   ],
   "source": [
    "a = pow(2, 3) # 2**3 = 2*2*2\n",
    "print(a)"
   ]
  },
  {
   "cell_type": "code",
   "execution_count": 21,
   "id": "dd8a428c",
   "metadata": {},
   "outputs": [
    {
     "name": "stdout",
     "output_type": "stream",
     "text": [
      "3.141592653589793\n"
     ]
    }
   ],
   "source": [
    "import math\n",
    "a = math.pi\n",
    "print(a)"
   ]
  },
  {
   "cell_type": "code",
   "execution_count": 22,
   "id": "31e2c296",
   "metadata": {},
   "outputs": [
    {
     "name": "stdout",
     "output_type": "stream",
     "text": [
      "3.0\n"
     ]
    }
   ],
   "source": [
    "import math\n",
    "a = math.sqrt(9)\n",
    "print(a)"
   ]
  },
  {
   "cell_type": "code",
   "execution_count": 23,
   "id": "f7c95aa4",
   "metadata": {},
   "outputs": [
    {
     "name": "stdout",
     "output_type": "stream",
     "text": [
      "4\n"
     ]
    }
   ],
   "source": [
    "import math\n",
    "a = math.gcd(8, 12)\n",
    "print(a)"
   ]
  },
  {
   "cell_type": "markdown",
   "id": "84170a20",
   "metadata": {},
   "source": [
    "# Python Modules"
   ]
  },
  {
   "cell_type": "code",
   "execution_count": 26,
   "id": "ef8c594f",
   "metadata": {},
   "outputs": [
    {
     "name": "stdout",
     "output_type": "stream",
     "text": [
      "Hello John\n"
     ]
    }
   ],
   "source": [
    "import mymodule\n",
    "mymodule.message(\"John\")"
   ]
  },
  {
   "cell_type": "markdown",
   "id": "52c94742",
   "metadata": {},
   "source": [
    "# File Handling"
   ]
  },
  {
   "cell_type": "code",
   "execution_count": 35,
   "id": "f6503519",
   "metadata": {},
   "outputs": [],
   "source": [
    "f = open(\"sample.txt\", \"w\") # file pathe/ docx/txt, w = write/modify, a = append, r = read\n",
    "f.write(\"Learn Python Programming\\n\")\n",
    "\n",
    "f.close()"
   ]
  },
  {
   "cell_type": "code",
   "execution_count": 36,
   "id": "89144b0a",
   "metadata": {},
   "outputs": [
    {
     "name": "stdout",
     "output_type": "stream",
     "text": [
      "Learn Python Programming\n",
      "\n"
     ]
    }
   ],
   "source": [
    "f = open(\"sample.txt\", \"r\") \n",
    "read = f.read()\n",
    "print(read)"
   ]
  },
  {
   "cell_type": "code",
   "execution_count": null,
   "id": "6745b2b6",
   "metadata": {},
   "outputs": [],
   "source": []
  }
 ],
 "metadata": {
  "kernelspec": {
   "display_name": "Python 3",
   "language": "python",
   "name": "python3"
  },
  "language_info": {
   "codemirror_mode": {
    "name": "ipython",
    "version": 3
   },
   "file_extension": ".py",
   "mimetype": "text/x-python",
   "name": "python",
   "nbconvert_exporter": "python",
   "pygments_lexer": "ipython3",
   "version": "3.8.8"
  }
 },
 "nbformat": 4,
 "nbformat_minor": 5
}
